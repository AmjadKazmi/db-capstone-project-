{
 "cells": [
  {
   "cell_type": "code",
   "execution_count": 1,
   "id": "dab2845b",
   "metadata": {},
   "outputs": [
    {
     "name": "stdout",
     "output_type": "stream",
     "text": [
      "Requirement already satisfied: mysql-connector-python in /opt/homebrew/lib/python3.11/site-packages (8.1.0)\n",
      "Requirement already satisfied: protobuf<=4.21.12,>=4.21.1 in /opt/homebrew/lib/python3.11/site-packages (from mysql-connector-python) (4.21.12)\n",
      "\n",
      "\u001b[1m[\u001b[0m\u001b[34;49mnotice\u001b[0m\u001b[1;39;49m]\u001b[0m\u001b[39;49m A new release of pip is available: \u001b[0m\u001b[31;49m23.2.1\u001b[0m\u001b[39;49m -> \u001b[0m\u001b[32;49m23.3\u001b[0m\n",
      "\u001b[1m[\u001b[0m\u001b[34;49mnotice\u001b[0m\u001b[1;39;49m]\u001b[0m\u001b[39;49m To update, run: \u001b[0m\u001b[32;49mpython3.11 -m pip install --upgrade pip\u001b[0m\n"
     ]
    }
   ],
   "source": [
    "!pip install mysql-connector-python"
   ]
  },
  {
   "cell_type": "code",
   "execution_count": 2,
   "id": "cc76e68c",
   "metadata": {},
   "outputs": [],
   "source": [
    "import mysql.connector as connector"
   ]
  },
  {
   "cell_type": "code",
   "execution_count": 3,
   "id": "30c1c3f9",
   "metadata": {},
   "outputs": [],
   "source": [
    "connection = connector.connect(user = \"capStoneUser\", password = \"Courseera@12\",db='little_lemon', auth_plugin='mysql_native_password')"
   ]
  },
  {
   "cell_type": "code",
   "execution_count": 4,
   "id": "2a7e71c6",
   "metadata": {},
   "outputs": [
    {
     "name": "stdout",
     "output_type": "stream",
     "text": [
      "[('Bookings',), ('Customers',), ('MenuItems',), ('Menus',), ('OrderDeliveryStatus',), ('Orders',), ('orderview',), ('Staffs',)]\n"
     ]
    }
   ],
   "source": [
    "query='Show Tables'\n",
    "cursor = connection.cursor()\n",
    "cursor.execute(query)\n",
    "result =cursor.fetchall()\n",
    "print(result)"
   ]
  },
  {
   "cell_type": "code",
   "execution_count": 5,
   "id": "bad50e8d",
   "metadata": {},
   "outputs": [
    {
     "name": "stdout",
     "output_type": "stream",
     "text": [
      "('Customer Name', 'Contact details')\n",
      "('Anna Iversen', '987654321-Anna.Iversen@gmail.com')\n",
      "('Joakim Iversen', '987654321-Joakim. Iversen@gmail.com')\n",
      "('Vanessa McCarthy', '987654321-Venessa.McCarthy@google.com')\n",
      "('Marcos Romero', '987654321-Marcos.Romero@gmail.com')\n",
      "('Hiroki Yamane', '987654321-Hiroki.Yamane@gmail.com')\n",
      "('Diana Pinto', '987654321-Diana.Pinto@gmail.com')\n",
      "('Anna Iversen', '987654321-Anna.Iversen@gmail.com')\n",
      "('Joakim Iversen', '987654321-Joakim. Iversen@gmail.com')\n",
      "('Vanessa McCarthy', '987654321-Venessa.McCarthy@google.com')\n",
      "('Marcos Romero', '987654321-Marcos.Romero@gmail.com')\n"
     ]
    }
   ],
   "source": [
    "query='''select concat(Customers.FirstName,\" \",Customers.LastName) as 'Customer Name', \n",
    "concat(Customers.ContactNumber,\"-\",Customers.Email) as 'Contact details' from Orders inner join Customers\n",
    "On Orders.CustomerID= Customers.CustomerID where Orders.BillAmount> 60;'''\n",
    "cursor.execute(query)\n",
    "records=cursor.fetchall()\n",
    "columns=cursor.column_names\n",
    "print(columns)\n",
    "for row in records:\n",
    "    print(row)\n"
   ]
  },
  {
   "cell_type": "code",
   "execution_count": null,
   "id": "37deb62c",
   "metadata": {},
   "outputs": [],
   "source": []
  },
  {
   "cell_type": "code",
   "execution_count": null,
   "id": "99e55f0e",
   "metadata": {},
   "outputs": [],
   "source": []
  }
 ],
 "metadata": {
  "kernelspec": {
   "display_name": "Python 3 (ipykernel)",
   "language": "python",
   "name": "python3"
  },
  "language_info": {
   "codemirror_mode": {
    "name": "ipython",
    "version": 3
   },
   "file_extension": ".py",
   "mimetype": "text/x-python",
   "name": "python",
   "nbconvert_exporter": "python",
   "pygments_lexer": "ipython3",
   "version": "3.11.4"
  }
 },
 "nbformat": 4,
 "nbformat_minor": 5
}
